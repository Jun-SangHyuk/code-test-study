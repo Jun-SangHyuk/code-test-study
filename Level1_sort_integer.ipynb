{
 "cells": [
  {
   "cell_type": "markdown",
   "id": "b494276f",
   "metadata": {},
   "source": [
    "# Level 1. 정수 내림차순으로 배치하기\n",
    "\n",
    "<문제설명>\n",
    "\n",
    "함수 solution은 정수 n을 매개변수로 입력받습니다. n의 각 자릿수를 큰것부터 작은 순으로 정렬한 새로운 정수를 리턴해주세요. 예를들어 n이 118372면 873211을 리턴하면 됩니다.\n",
    "\n",
    "<제한 사항>\n",
    "\n",
    "n은 1이상 8000000000 이하인 자연수입니다."
   ]
  },
  {
   "cell_type": "markdown",
   "id": "bf712dc7",
   "metadata": {},
   "source": [
    "# 입출력 예\n",
    "\n",
    "|arr|\treturn|\n",
    "|---|---------|\n",
    "|118372|\t873211|\n"
   ]
  },
  {
   "cell_type": "code",
   "execution_count": 2,
   "id": "5a7777ff",
   "metadata": {},
   "outputs": [],
   "source": [
    "def solution(n):\n",
    "    answer = 0\n",
    "    return answer"
   ]
  },
  {
   "cell_type": "code",
   "execution_count": 10,
   "id": "ff184e0c",
   "metadata": {},
   "outputs": [],
   "source": [
    "n = 118372"
   ]
  },
  {
   "cell_type": "code",
   "execution_count": 25,
   "id": "16a8dec2",
   "metadata": {},
   "outputs": [
    {
     "data": {
      "text/plain": [
       "['8', '7', '3', '2', '1', '1']"
      ]
     },
     "execution_count": 25,
     "metadata": {},
     "output_type": "execute_result"
    }
   ],
   "source": [
    "answer = [i for i in str(n)]\n",
    "answer.sort(reverse=True)\n",
    "answer"
   ]
  },
  {
   "cell_type": "code",
   "execution_count": 27,
   "id": "a9c146c8",
   "metadata": {},
   "outputs": [
    {
     "data": {
      "text/plain": [
       "873211"
      ]
     },
     "execution_count": 27,
     "metadata": {},
     "output_type": "execute_result"
    }
   ],
   "source": [
    "int(\"\".join(answer))"
   ]
  },
  {
   "cell_type": "code",
   "execution_count": 28,
   "id": "e7b92a98",
   "metadata": {},
   "outputs": [],
   "source": [
    "def solution(n):\n",
    "    n = int(n)\n",
    "    if n > 0:\n",
    "        result = [i for i in str(n)]\n",
    "        result.sort(reverse=True)\n",
    "        answer = int(\"\".join(result))\n",
    "    return answer"
   ]
  },
  {
   "cell_type": "code",
   "execution_count": 29,
   "id": "63a8bf1f",
   "metadata": {},
   "outputs": [
    {
     "data": {
      "text/plain": [
       "873211"
      ]
     },
     "execution_count": 29,
     "metadata": {},
     "output_type": "execute_result"
    }
   ],
   "source": [
    "solution(n)"
   ]
  }
 ],
 "metadata": {
  "kernelspec": {
   "display_name": "Python 3",
   "language": "python",
   "name": "python3"
  },
  "language_info": {
   "codemirror_mode": {
    "name": "ipython",
    "version": 3
   },
   "file_extension": ".py",
   "mimetype": "text/x-python",
   "name": "python",
   "nbconvert_exporter": "python",
   "pygments_lexer": "ipython3",
   "version": "3.8.8"
  }
 },
 "nbformat": 4,
 "nbformat_minor": 5
}
