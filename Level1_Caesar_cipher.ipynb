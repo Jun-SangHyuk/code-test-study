{
 "cells": [
  {
   "cell_type": "markdown",
   "id": "b8d8c528",
   "metadata": {},
   "source": [
    "# Level 1. 시저 암호\n",
    "\n",
    "<문제설명>\n",
    "\n",
    "어떤 문장의 각 알파벳을 일정한 거리만큼 밀어서 다른 알파벳으로 바꾸는 암호화 방식을 시저 암호라고 합니다.\n",
    "예를 들어 \"AB\"는 1만큼 밀면 \"BC\"가 되고, 3만큼 밀면 \"DE\"가 됩니다. \"z\"는 1만큼 밀면 \"a\"가 됩니다. 문자열 s와 거리 n을 입력받아 s를 n만큼 민 암호문을 만드는 함수, solution을 완성해 보세요.\n",
    "\n",
    "<제한 사항>\n",
    "\n",
    "공백은 아무리 밀어도 공백입니다.\n",
    "s는 알파벳 소문자, 대문자, 공백으로만 이루어져 있습니다.\n",
    "s의 길이는 8000이하입니다.\n",
    "n은 1 이상, 25이하인 자연수입니다."
   ]
  },
  {
   "cell_type": "markdown",
   "id": "9f32d10d",
   "metadata": {},
   "source": [
    "# 입출력 예\n",
    "\n",
    "|s|n|\treturn|\n",
    "|--- |---|---------|\n",
    "|\"AB\"|1|\t\"BC\"|\n",
    "|\"z\"|1|\t\"a\"|\n",
    "|\"a B z\"|4|\"e F d\"|"
   ]
  },
  {
   "cell_type": "code",
   "execution_count": 1,
   "id": "dde9424c",
   "metadata": {},
   "outputs": [],
   "source": [
    "def solution(s, n):\n",
    "    answer = ''\n",
    "    return answer"
   ]
  },
  {
   "cell_type": "code",
   "execution_count": 40,
   "id": "be9ec0e0",
   "metadata": {},
   "outputs": [],
   "source": [
    "s = \"a B z\"\n",
    "n = 4\n",
    "alph = 'abcdefghijklmnopqrstuvwxyz'\n",
    "\n",
    "def solution(s, n):\n",
    "    result = []\n",
    "    for i in s:\n",
    "        if i == \" \":\n",
    "            result.append(i)\n",
    "            pass\n",
    "        elif i.isupper():\n",
    "            cnt = alph.find(i.lower())\n",
    "            if cnt + n < 26:\n",
    "                result.append(alph[cnt + n].upper())\n",
    "            else:\n",
    "                result.append(alph[(cnt + n)-26].upper())\n",
    "        else:\n",
    "            cnt = alph.find(i)\n",
    "            if cnt + n < 26:\n",
    "                result.append(alph[cnt + n])\n",
    "            else:\n",
    "                result.append(alph[(cnt + n)-26])\n",
    "    answer = \"\".join(result)\n",
    "    return answer"
   ]
  },
  {
   "cell_type": "code",
   "execution_count": 33,
   "id": "d060870b",
   "metadata": {},
   "outputs": [
    {
     "data": {
      "text/plain": [
       "'e F d'"
      ]
     },
     "execution_count": 33,
     "metadata": {},
     "output_type": "execute_result"
    }
   ],
   "source": [
    "solution(s, n)"
   ]
  },
  {
   "cell_type": "code",
   "execution_count": 35,
   "id": "f5af763e",
   "metadata": {},
   "outputs": [
    {
     "data": {
      "text/plain": [
       "'BC'"
      ]
     },
     "execution_count": 35,
     "metadata": {},
     "output_type": "execute_result"
    }
   ],
   "source": [
    "solution(\"AB\",1)"
   ]
  },
  {
   "cell_type": "code",
   "execution_count": 41,
   "id": "ecd58ebe",
   "metadata": {},
   "outputs": [
    {
     "data": {
      "text/plain": [
       "'a'"
      ]
     },
     "execution_count": 41,
     "metadata": {},
     "output_type": "execute_result"
    }
   ],
   "source": [
    "solution(\"z\",1)"
   ]
  }
 ],
 "metadata": {
  "kernelspec": {
   "display_name": "Python 3",
   "language": "python",
   "name": "python3"
  },
  "language_info": {
   "codemirror_mode": {
    "name": "ipython",
    "version": 3
   },
   "file_extension": ".py",
   "mimetype": "text/x-python",
   "name": "python",
   "nbconvert_exporter": "python",
   "pygments_lexer": "ipython3",
   "version": "3.8.8"
  }
 },
 "nbformat": 4,
 "nbformat_minor": 5
}
