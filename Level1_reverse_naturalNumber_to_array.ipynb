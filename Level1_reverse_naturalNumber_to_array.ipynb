{
 "cells": [
  {
   "cell_type": "markdown",
   "id": "0f9f7287",
   "metadata": {},
   "source": [
    "# Level 1. 자연수 뒤집어 배열로 만들기\n",
    "\n",
    "<문제설명>\n",
    "\n",
    "자연수 n을 뒤집어 각 자리 숫자를 원소로 가지는 배열 형태로 리턴해주세요. 예를들어 n이 12345이면 [5,4,3,2,1]을 리턴합니다.\n",
    "\n",
    "<제한 사항>\n",
    "\n",
    "n은 10,000,000,000이하인 자연수입니다."
   ]
  },
  {
   "cell_type": "markdown",
   "id": "854f74dc",
   "metadata": {},
   "source": [
    "# 입출력 예\n",
    "\n",
    "|arr|\treturn|\n",
    "|---|---------|\n",
    "|12345|\t[5,4,3,2,1]|"
   ]
  },
  {
   "cell_type": "code",
   "execution_count": 1,
   "id": "4fcfbe44",
   "metadata": {},
   "outputs": [],
   "source": [
    "def solution(n):\n",
    "    answer = []\n",
    "    return answer"
   ]
  },
  {
   "cell_type": "code",
   "execution_count": 2,
   "id": "75a6497b",
   "metadata": {},
   "outputs": [],
   "source": [
    "def solution(n):\n",
    "    answer = []\n",
    "    for i in str(n):\n",
    "        answer.append(int(i))\n",
    "    answer.reverse()\n",
    "    return answer"
   ]
  },
  {
   "cell_type": "code",
   "execution_count": 3,
   "id": "4912e174",
   "metadata": {},
   "outputs": [
    {
     "data": {
      "text/plain": [
       "[5, 4, 3, 2, 1]"
      ]
     },
     "execution_count": 3,
     "metadata": {},
     "output_type": "execute_result"
    }
   ],
   "source": [
    "solution(12345)"
   ]
  }
 ],
 "metadata": {
  "kernelspec": {
   "display_name": "Python 3",
   "language": "python",
   "name": "python3"
  },
  "language_info": {
   "codemirror_mode": {
    "name": "ipython",
    "version": 3
   },
   "file_extension": ".py",
   "mimetype": "text/x-python",
   "name": "python",
   "nbconvert_exporter": "python",
   "pygments_lexer": "ipython3",
   "version": "3.8.8"
  }
 },
 "nbformat": 4,
 "nbformat_minor": 5
}
