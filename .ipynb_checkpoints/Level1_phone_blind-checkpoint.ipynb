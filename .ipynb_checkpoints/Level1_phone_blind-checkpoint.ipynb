{
 "cells": [
  {
   "cell_type": "markdown",
   "metadata": {},
   "source": [
    "# Level 1. 폰번호 가리기\n",
    "\n",
    "<문제 설명>\n",
    "\n",
    "프로그래머스 모바일은 개인정보 보호를 위해 고지서를 보낼 때 고객들의 전화번호의 일부를 가립니다.\n",
    "전화번호가 문자열 phone_number로 주어졌을 때, 전화번호의 뒷 4자리를 제외한 나머지 숫자를 전부 ```*```으로 가린 문자열을 리턴하는 함수, solution을 완성해주세요.\n",
    "\n",
    "<제한 조건>\n",
    "\n",
    "s는 길이 4 이상, 20이하인 문자열입니다."
   ]
  },
  {
   "cell_type": "markdown",
   "metadata": {},
   "source": [
    "# 입출력 예\n",
    "\n",
    "|phone_number|return|\n",
    "| - | - |\n",
    "| 01033334444\t| *******4444\t|\n",
    "| 027778888\t| *****8888    |\n",
    "\t\t"
   ]
  },
  {
   "cell_type": "code",
   "execution_count": 55,
   "metadata": {},
   "outputs": [],
   "source": [
    "import re\n",
    "def solution(phone_number):\n",
    "    answer = re.sub(phone_number[:-4],'*' * len(phone_number[:-4]), phone_number)\n",
    "    return answer"
   ]
  },
  {
   "cell_type": "markdown",
   "metadata": {},
   "source": [
    "그냥 len 가지고 처리가 가능했습니다\n",
    "너무 복잡하게 생각한걸지도..\n",
    "```python\n",
    "\"*\"*(len(s)-4) + s[-4:]\n",
    "```"
   ]
  }
 ],
 "metadata": {
  "kernelspec": {
   "display_name": "Python 3",
   "language": "python",
   "name": "python3"
  },
  "language_info": {
   "codemirror_mode": {
    "name": "ipython",
    "version": 3
   },
   "file_extension": ".py",
   "mimetype": "text/x-python",
   "name": "python",
   "nbconvert_exporter": "python",
   "pygments_lexer": "ipython3",
   "version": "3.8.5"
  }
 },
 "nbformat": 4,
 "nbformat_minor": 4
}
