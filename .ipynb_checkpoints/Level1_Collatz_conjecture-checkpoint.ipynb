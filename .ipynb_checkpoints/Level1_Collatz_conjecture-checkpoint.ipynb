{
 "cells": [
  {
   "cell_type": "markdown",
   "metadata": {},
   "source": [
    "# Level 1. 콜라츠 추측\n",
    "\n",
    "<문제설명>\n",
    "\n",
    "1937년 Collatz란 사람에 의해 제기된 이 추측은, 주어진 수가 1이 될때까지 다음 작업을 반복하면, 모든 수를 1로 만들 수 있다는 추측입니다. 작업은 다음과 같습니다.\n",
    "\n",
    ">1-1. 입력된 수가 짝수라면 2로 나눕니다.    \n",
    ">1-2. 입력된 수가 홀수라면 3을 곱하고 1을 더합니다.    \n",
    ">2. 결과로 나온 수에 같은 작업을 1이 될 때까지 반복합니다.\n",
    "\n",
    "예를 들어, 입력된 수가 6이라면 6→3→10→5→16→8→4→2→1 이 되어 총 8번 만에 1이 됩니다. 위 작업을 몇 번이나 반복해야하는지 반환하는 함수, solution을 완성해 주세요. 단, 작업을 500번을 반복해도 1이 되지 않는다면 –1을 반환해 주세요.\n",
    "\n",
    "<제한 사항>\n",
    "\n",
    "입력된 수, ```num```은 1 이상 8000000 미만인 정수입니다."
   ]
  },
  {
   "cell_type": "markdown",
   "metadata": {},
   "source": [
    "# 입출력 예\n",
    "\n",
    "|n|\treturn|\n",
    "|---|---------|\n",
    "|6|\t8|\n",
    "|16|\t4|\n",
    "|626331| -1 |"
   ]
  },
  {
   "cell_type": "code",
   "execution_count": 1,
   "metadata": {},
   "outputs": [],
   "source": [
    "def solution(num):\n",
    "    answer = 0\n",
    "    if num == 1:\n",
    "        answer = 0\n",
    "    else:\n",
    "        while True:\n",
    "            if num%2 == 0:\n",
    "                num = num/2\n",
    "                answer+=1\n",
    "            else:\n",
    "                num = num*3+1\n",
    "                answer+=1\n",
    "            if num == 1:\n",
    "                break\n",
    "    if answer >= 500:\n",
    "        answer=-1\n",
    "    return answer"
   ]
  },
  {
   "cell_type": "code",
   "execution_count": 2,
   "metadata": {},
   "outputs": [
    {
     "data": {
      "text/plain": [
       "8"
      ]
     },
     "execution_count": 2,
     "metadata": {},
     "output_type": "execute_result"
    }
   ],
   "source": [
    "solution(6)"
   ]
  },
  {
   "cell_type": "code",
   "execution_count": 3,
   "metadata": {},
   "outputs": [
    {
     "data": {
      "text/plain": [
       "4"
      ]
     },
     "execution_count": 3,
     "metadata": {},
     "output_type": "execute_result"
    }
   ],
   "source": [
    "solution(16)"
   ]
  },
  {
   "cell_type": "code",
   "execution_count": 4,
   "metadata": {},
   "outputs": [
    {
     "data": {
      "text/plain": [
       "-1"
      ]
     },
     "execution_count": 4,
     "metadata": {},
     "output_type": "execute_result"
    }
   ],
   "source": [
    "solution(626331)"
   ]
  },
  {
   "cell_type": "markdown",
   "metadata": {},
   "source": [
    "더 좋은 방법이 뭐가 있을까?\n",
    "다른 이의 풀이를 가져와봤는데 num이 1일 때 처리가 안되어있길래 추가"
   ]
  },
  {
   "cell_type": "code",
   "execution_count": 7,
   "metadata": {},
   "outputs": [],
   "source": [
    "def collatz(num):\n",
    "    if num == 1:\n",
    "        return 0\n",
    "    else:\n",
    "        for i in range(500):\n",
    "            num = num / 2 if num % 2 == 0 else num*3 + 1\n",
    "            if num == 1:\n",
    "                return i + 1\n",
    "    return -1"
   ]
  },
  {
   "cell_type": "code",
   "execution_count": 9,
   "metadata": {},
   "outputs": [
    {
     "data": {
      "text/plain": [
       "-1"
      ]
     },
     "execution_count": 9,
     "metadata": {},
     "output_type": "execute_result"
    }
   ],
   "source": [
    "collatz(626331)"
   ]
  }
 ],
 "metadata": {
  "kernelspec": {
   "display_name": "Python 3",
   "language": "python",
   "name": "python3"
  },
  "language_info": {
   "codemirror_mode": {
    "name": "ipython",
    "version": 3
   },
   "file_extension": ".py",
   "mimetype": "text/x-python",
   "name": "python",
   "nbconvert_exporter": "python",
   "pygments_lexer": "ipython3",
   "version": "3.8.5"
  }
 },
 "nbformat": 4,
 "nbformat_minor": 4
}
