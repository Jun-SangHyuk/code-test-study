{
 "cells": [
  {
   "cell_type": "markdown",
   "id": "1cdca572",
   "metadata": {},
   "source": [
    "# Level 1. 약수의 합\n",
    "\n",
    "<문제설명>\n",
    "\n",
    "정수 n을 입력받아 n의 약수를 모두 더한 값을 리턴하는 함수, solution을 완성해주세요.\n",
    "\n",
    "<제한 사항>\n",
    "\n",
    "n은 0 이상 3000이하인 정수입니다."
   ]
  },
  {
   "cell_type": "markdown",
   "id": "10ee47e6",
   "metadata": {},
   "source": [
    "# 입출력 예\n",
    "\n",
    "|n|\treturn|\n",
    "|---|---------|\n",
    "|12|\t28|\n",
    "|5|\t6|"
   ]
  },
  {
   "cell_type": "code",
   "execution_count": 1,
   "id": "8f53459a",
   "metadata": {},
   "outputs": [],
   "source": [
    "def solution(n):\n",
    "    answer = 0\n",
    "    return answer"
   ]
  },
  {
   "cell_type": "code",
   "execution_count": 20,
   "id": "2fa95588",
   "metadata": {},
   "outputs": [],
   "source": [
    "n = 5\n",
    "def solution(n):\n",
    "    factor_list = []\n",
    "    for i in range(n):\n",
    "        if n % (i+1) == 0:\n",
    "            factor_list.append(i+1)\n",
    "    return sum(factor_list)"
   ]
  },
  {
   "cell_type": "code",
   "execution_count": 21,
   "id": "3ae7c0db",
   "metadata": {},
   "outputs": [
    {
     "data": {
      "text/plain": [
       "6"
      ]
     },
     "execution_count": 21,
     "metadata": {},
     "output_type": "execute_result"
    }
   ],
   "source": [
    "solution(n)"
   ]
  }
 ],
 "metadata": {
  "kernelspec": {
   "display_name": "Python 3",
   "language": "python",
   "name": "python3"
  },
  "language_info": {
   "codemirror_mode": {
    "name": "ipython",
    "version": 3
   },
   "file_extension": ".py",
   "mimetype": "text/x-python",
   "name": "python",
   "nbconvert_exporter": "python",
   "pygments_lexer": "ipython3",
   "version": "3.8.8"
  }
 },
 "nbformat": 4,
 "nbformat_minor": 5
}
