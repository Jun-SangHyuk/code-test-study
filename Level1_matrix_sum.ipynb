{
 "cells": [
  {
   "cell_type": "markdown",
   "metadata": {},
   "source": [
    "# Level 1. 행렬의 덧셈\n",
    "\n",
    "<문제 설명>\n",
    "\n",
    "행렬의 덧셈은 행과 열의 크기가 같은 두 행렬의 같은 행, 같은 열의 값을 서로 더한 결과가 됩니다. 2개의 행렬 arr1과 arr2를 입력받아, 행렬 덧셈의 결과를 반환하는 함수, solution을 완성해주세요.\n",
    "\n",
    "<제한 조건>\n",
    "\n",
    "행렬 arr1, arr2의 행과 열의 길이는 500을 넘지 않습니다."
   ]
  },
  {
   "cell_type": "markdown",
   "metadata": {},
   "source": [
    "# 입출력 예\n",
    "\n",
    "|arr1|arr2|return|\n",
    "| - | - | ----------- |\n",
    "| [[1,2],[2,3]]\t| [[3,4],[5,6]]\t| [[4,6],[7,9]]|\n",
    "| [[1],[2]] | [[3],[4]]\t| [[4],[6]]    |\n",
    "\t\t\n",
    "\t\t\n",
    "\t\t"
   ]
  },
  {
   "cell_type": "code",
   "execution_count": 248,
   "metadata": {},
   "outputs": [],
   "source": [
    "import numpy as np\n",
    "def solution(arr1, arr2):\n",
    "    answer = (np.matrix(arr1) + np.matrix(arr2)).tolist()\n",
    "    return answer"
   ]
  },
  {
   "cell_type": "code",
   "execution_count": 249,
   "metadata": {},
   "outputs": [
    {
     "data": {
      "text/plain": [
       "[[4, 6], [7, 9]]"
      ]
     },
     "execution_count": 249,
     "metadata": {},
     "output_type": "execute_result"
    }
   ],
   "source": [
    "arr1 = [[1,2],[2,3]]\n",
    "arr2 = [[3,4], [5,6]]\n",
    "\n",
    "solution(arr1,arr2)"
   ]
  },
  {
   "cell_type": "code",
   "execution_count": 250,
   "metadata": {},
   "outputs": [
    {
     "data": {
      "text/plain": [
       "[[4], [6]]"
      ]
     },
     "execution_count": 250,
     "metadata": {},
     "output_type": "execute_result"
    }
   ],
   "source": [
    "arr1 = [[1],[2]]\n",
    "arr2 = [[3],[4]]\n",
    "\n",
    "solution(arr1,arr2)"
   ]
  },
  {
   "cell_type": "markdown",
   "metadata": {},
   "source": [
    "다른 사람이 푼 예시도 볼 수 있단걸 알게 되었다.\n",
    "\n",
    "* zip을 이용한 풀이\n",
    "\n",
    "```python\n",
    "answer = [[c + d for c, d in zip(a, b)] for a, b in zip(A,B)]\n",
    "```\n",
    "\n",
    "* for문을 이용한 풀이\n",
    "\n",
    "```python\n",
    "for i in range(len(A)) :\n",
    "        for j in range(len(A[0])):\n",
    "            A[i][j] += B[i][j]\n",
    "```"
   ]
  }
 ],
 "metadata": {
  "kernelspec": {
   "display_name": "Python 3",
   "language": "python",
   "name": "python3"
  },
  "language_info": {
   "codemirror_mode": {
    "name": "ipython",
    "version": 3
   },
   "file_extension": ".py",
   "mimetype": "text/x-python",
   "name": "python",
   "nbconvert_exporter": "python",
   "pygments_lexer": "ipython3",
   "version": "3.8.5"
  }
 },
 "nbformat": 4,
 "nbformat_minor": 4
}
